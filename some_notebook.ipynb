{
 "cells": [
  {
   "cell_type": "raw",
   "id": "cf6dc549",
   "metadata": {},
   "source": [
    "---\n",
    "title: \"Python Notebook\"\n",
    "output: html_notebook\n",
    "---"
   ]
  },
  {
   "cell_type": "markdown",
   "id": "9a0d9b8c",
   "metadata": {
    "lines_to_next_cell": 0
   },
   "source": []
  },
  {
   "cell_type": "code",
   "execution_count": null,
   "id": "ecd4999a",
   "metadata": {
    "lines_to_next_cell": 2
   },
   "outputs": [],
   "source": [
    "Dont forget to use 'source .venv/Scripts/activate' command first\n",
    "then 'pip install -r requirements.txt' to install are required packages"
   ]
  },
  {
   "cell_type": "code",
   "execution_count": null,
   "id": "94d47e2b",
   "metadata": {
    "lines_to_next_cell": 2
   },
   "outputs": [],
   "source": [
    "%%R\n",
    "Sys.getenv(\"RETICULATE_PYTHON\")\n",
    "library(reticulate)\n",
    "use_python(\".venv/bin/python\")"
   ]
  },
  {
   "cell_type": "code",
   "execution_count": null,
   "id": "e2b278d3",
   "metadata": {
    "lines_to_next_cell": 0,
    "name": "packages"
   },
   "outputs": [],
   "source": [
    "\n",
    "import numpy as np\n",
    "import pandas as pd\n",
    "import matplotlib.pyplot as plt\n"
   ]
  },
  {
   "cell_type": "markdown",
   "id": "88f8a74d",
   "metadata": {},
   "source": [
    "\n"
   ]
  },
  {
   "cell_type": "code",
   "execution_count": null,
   "id": "d2a14b10",
   "metadata": {},
   "outputs": [],
   "source": [
    "\n",
    "def dist_lognormal():\n",
    "  np.random.seed(0)\n",
    "  return np.random.lognormal(size=1000)\n",
    "\n",
    "plt.hist(dist_lognormal())\n",
    "plt.show()"
   ]
  },
  {
   "cell_type": "code",
   "execution_count": null,
   "id": "29b5efea",
   "metadata": {
    "lines_to_next_cell": 0
   },
   "outputs": [],
   "source": [
    "%%R\n",
    "\n",
    "readr::write_csv(nycflights13::flights,path = \"flights.csv\")\n"
   ]
  },
  {
   "cell_type": "markdown",
   "id": "69fd7e7b",
   "metadata": {},
   "source": [
    "\n"
   ]
  },
  {
   "cell_type": "code",
   "execution_count": null,
   "id": "3ae16e84",
   "metadata": {
    "lines_to_next_cell": 2,
    "name": "import data"
   },
   "outputs": [],
   "source": [
    "\n",
    "flights = pd.read_csv(\"data/flights.csv\")\n",
    "heights = pd.read_csv(\"data/heights.csv\")\n"
   ]
  },
  {
   "cell_type": "code",
   "execution_count": null,
   "id": "6aaa2ce3",
   "metadata": {
    "lines_to_next_cell": 0,
    "name": "but plot in R"
   },
   "outputs": [],
   "source": [
    "%%R\n",
    "library(ggplot2)\n",
    "py$heights\n",
    "ggplot(py$heights, aes(height, earn)) +\n",
    "  geom_point()"
   ]
  },
  {
   "cell_type": "markdown",
   "id": "0ec74010",
   "metadata": {},
   "source": []
  }
 ],
 "metadata": {
  "jupytext": {
   "cell_metadata_filter": "name,-all",
   "main_language": "python",
   "notebook_metadata_filter": "-all"
  }
 },
 "nbformat": 4,
 "nbformat_minor": 5
}
